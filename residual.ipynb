{
 "cells": [
  {
   "cell_type": "code",
   "execution_count": 1,
   "metadata": {},
   "outputs": [],
   "source": [
    "import pandas as pd\n",
    "import torch\n",
    "import torch.nn.functional as F\n",
    "from sklearn.metrics import confusion_matrix\n",
    "from sklearn.model_selection import train_test_split\n",
    "from torch import Tensor, nn, optim\n",
    "from torch.utils.data import DataLoader\n",
    "from torchinfo import summary\n",
    "from tqdm.auto import tqdm\n",
    "\n",
    "from utils import *"
   ]
  },
  {
   "cell_type": "code",
   "execution_count": 2,
   "metadata": {},
   "outputs": [],
   "source": [
    "random_state = 42\n",
    "\n",
    "df = pd.read_csv(\"images.csv\")\n",
    "df_train, df_test = train_test_split(\n",
    "    df, test_size=2 / 10, stratify=df[\"score\"], random_state=random_state\n",
    ")\n",
    "df_train, df_val = train_test_split(\n",
    "    df_train, test_size=1 / 8, stratify=df_train[\"score\"], random_state=random_state\n",
    ")\n",
    "\n",
    "ds_train = MRIDataset(df_train)\n",
    "ds_val = MRIDataset(df_val)\n",
    "ds_test = MRIDataset(df_test)"
   ]
  },
  {
   "cell_type": "code",
   "execution_count": 3,
   "metadata": {},
   "outputs": [],
   "source": [
    "class BasicBlock(nn.Module):\n",
    "    def __conv_subblock(self, in_channels: int, out_channels: int):\n",
    "        return nn.Sequential(\n",
    "            nn.Conv3d(\n",
    "                in_channels,\n",
    "                out_channels,\n",
    "                kernel_size=(3, 1, 1),\n",
    "                stride=1,\n",
    "                padding=\"same\",\n",
    "                bias=False,\n",
    "            ),\n",
    "            nn.Conv3d(\n",
    "                out_channels,\n",
    "                out_channels,\n",
    "                kernel_size=(1, 3, 1),\n",
    "                stride=1,\n",
    "                padding=\"same\",\n",
    "                bias=False,\n",
    "            ),\n",
    "            nn.Conv3d(\n",
    "                out_channels,\n",
    "                out_channels,\n",
    "                kernel_size=(1, 1, 3),\n",
    "                stride=1,\n",
    "                padding=\"same\",\n",
    "                bias=False,\n",
    "            ),\n",
    "            nn.BatchNorm3d(out_channels),\n",
    "        )\n",
    "\n",
    "    def __init__(self, channels: int):\n",
    "        super().__init__()\n",
    "\n",
    "        self.subblock1 = self.__conv_subblock(channels, channels)\n",
    "        self.rl1 = nn.ReLU()\n",
    "        self.subblock2 = self.__conv_subblock(channels, channels)\n",
    "        self.rl2 = nn.ReLU()\n",
    "\n",
    "    def forward(self, x: Tensor):\n",
    "        identity = x\n",
    "\n",
    "        out = self.subblock1(x)\n",
    "        out = self.rl1(out)\n",
    "        out = self.subblock2(out)\n",
    "\n",
    "        out += identity\n",
    "        out = self.rl2(out)\n",
    "\n",
    "        return out\n",
    "\n",
    "\n",
    "class BottleNeck(nn.Module):\n",
    "    def __init__(self, in_channels: int, out_channels: int):\n",
    "        super().__init__()\n",
    "\n",
    "        self.conv1 = nn.Sequential(\n",
    "            nn.Conv3d(\n",
    "                in_channels,\n",
    "                in_channels,\n",
    "                kernel_size=(1, 1, 1),\n",
    "                stride=1,\n",
    "                padding=\"same\",\n",
    "                bias=False,\n",
    "            ),\n",
    "            nn.BatchNorm3d(in_channels),\n",
    "        )\n",
    "        self.rl1 = nn.ReLU()\n",
    "        self.conv2 = nn.Sequential(\n",
    "            nn.Conv3d(\n",
    "                in_channels,\n",
    "                in_channels,\n",
    "                kernel_size=(3, 1, 1),\n",
    "                stride=1,\n",
    "                padding=\"same\",\n",
    "                bias=False,\n",
    "            ),\n",
    "            nn.Conv3d(\n",
    "                in_channels,\n",
    "                in_channels,\n",
    "                kernel_size=(1, 3, 1),\n",
    "                stride=1,\n",
    "                padding=\"same\",\n",
    "                bias=False,\n",
    "            ),\n",
    "            nn.Conv3d(\n",
    "                in_channels,\n",
    "                in_channels,\n",
    "                kernel_size=(1, 1, 3),\n",
    "                stride=1,\n",
    "                padding=\"same\",\n",
    "                bias=False,\n",
    "            ),\n",
    "            nn.BatchNorm3d(in_channels),\n",
    "        )\n",
    "        self.rl2 = nn.ReLU()\n",
    "        self.conv3 = nn.Sequential(\n",
    "            nn.Conv3d(\n",
    "                in_channels,\n",
    "                out_channels,\n",
    "                kernel_size=(1, 1, 1),\n",
    "                stride=1,\n",
    "                padding=\"same\",\n",
    "                bias=False,\n",
    "            ),\n",
    "            nn.BatchNorm3d(out_channels),\n",
    "        )\n",
    "        self.rl3 = nn.ReLU()\n",
    "\n",
    "        if in_channels != out_channels:\n",
    "            self.downsample = nn.Sequential(\n",
    "                nn.Conv3d(\n",
    "                    in_channels,\n",
    "                    out_channels,\n",
    "                    kernel_size=(1, 1, 1),\n",
    "                    stride=1,\n",
    "                    padding=\"same\",\n",
    "                    bias=False,\n",
    "                ),\n",
    "                nn.BatchNorm3d(out_channels),\n",
    "            )\n",
    "        else:\n",
    "            self.downsample = nn.Identity()\n",
    "\n",
    "    def forward(self, x: Tensor):\n",
    "        identity = self.downsample(x)\n",
    "\n",
    "        out = self.conv1(x)\n",
    "        out = self.rl1(out)\n",
    "        out = self.conv2(x)\n",
    "        out = self.rl2(out)\n",
    "        out = self.conv3(x)\n",
    "\n",
    "        out += identity\n",
    "        out = self.rl3(out)\n",
    "\n",
    "        return out\n",
    "\n",
    "\n",
    "class Residual(nn.Module):\n",
    "    def __init__(self):\n",
    "        super().__init__()\n",
    "\n",
    "        self.init_block = nn.Sequential(\n",
    "            nn.Conv3d(1, 8, kernel_size=(5, 5, 5), stride=2),\n",
    "            nn.BatchNorm3d(8),\n",
    "            nn.ReLU(),\n",
    "        )\n",
    "\n",
    "        self.res = nn.Sequential(\n",
    "            BasicBlock(8),\n",
    "            BasicBlock(8),\n",
    "            nn.MaxPool3d(kernel_size=(3, 3, 3), stride=2),\n",
    "            BottleNeck(8, 8),\n",
    "            BasicBlock(8),\n",
    "            BasicBlock(8),\n",
    "            BasicBlock(8),\n",
    "            nn.MaxPool3d(kernel_size=(3, 3, 3), stride=2),\n",
    "            BottleNeck(8, 16),\n",
    "            BasicBlock(16),\n",
    "            BasicBlock(16),\n",
    "            BasicBlock(16),\n",
    "        )\n",
    "\n",
    "        self.global_pooling = nn.AdaptiveAvgPool3d((1, 1, 1))\n",
    "\n",
    "        self.readout_block = nn.Sequential(\n",
    "            nn.Flatten(),\n",
    "            nn.Linear(16, 32, bias=True),\n",
    "            nn.Dropout(0.5),\n",
    "            nn.Linear(32, 2, bias=True),\n",
    "            nn.Softmax(dim=1),\n",
    "        )\n",
    "\n",
    "    def forward(self, x: Tensor):\n",
    "        out = self.init_block(x)\n",
    "        out = self.res(out)\n",
    "        out = self.global_pooling(out)\n",
    "        out = self.readout_block(out)\n",
    "\n",
    "        return out"
   ]
  },
  {
   "cell_type": "code",
   "execution_count": 5,
   "metadata": {},
   "outputs": [],
   "source": [
    "learning_rate = 0.0005\n",
    "epochs = 400\n",
    "batch_size = 4\n",
    "patience = 5\n",
    "delta = 0.01"
   ]
  },
  {
   "cell_type": "code",
   "execution_count": 6,
   "metadata": {},
   "outputs": [
    {
     "data": {
      "text/plain": [
       "==========================================================================================\n",
       "Layer (type:depth-idx)                   Output Shape              Param #\n",
       "==========================================================================================\n",
       "Residual                                 [4, 2]                    --\n",
       "├─Sequential: 1-1                        [4, 8, 94, 126, 126]      --\n",
       "│    └─Conv3d: 2-1                       [4, 8, 94, 126, 126]      1,008\n",
       "│    └─BatchNorm3d: 2-2                  [4, 8, 94, 126, 126]      16\n",
       "│    └─ReLU: 2-3                         [4, 8, 94, 126, 126]      --\n",
       "├─Sequential: 1-2                        [4, 16, 22, 30, 30]       --\n",
       "│    └─BasicBlock: 2-4                   [4, 8, 94, 126, 126]      --\n",
       "│    │    └─Sequential: 3-1              [4, 8, 94, 126, 126]      592\n",
       "│    │    └─ReLU: 3-2                    [4, 8, 94, 126, 126]      --\n",
       "│    │    └─Sequential: 3-3              [4, 8, 94, 126, 126]      592\n",
       "│    │    └─ReLU: 3-4                    [4, 8, 94, 126, 126]      --\n",
       "│    └─BasicBlock: 2-5                   [4, 8, 94, 126, 126]      --\n",
       "│    │    └─Sequential: 3-5              [4, 8, 94, 126, 126]      592\n",
       "│    │    └─ReLU: 3-6                    [4, 8, 94, 126, 126]      --\n",
       "│    │    └─Sequential: 3-7              [4, 8, 94, 126, 126]      592\n",
       "│    │    └─ReLU: 3-8                    [4, 8, 94, 126, 126]      --\n",
       "│    └─MaxPool3d: 2-6                    [4, 8, 46, 62, 62]        --\n",
       "│    └─BottleNeck: 2-7                   [4, 8, 46, 62, 62]        --\n",
       "│    │    └─Identity: 3-9                [4, 8, 46, 62, 62]        --\n",
       "│    │    └─Sequential: 3-10             [4, 8, 46, 62, 62]        80\n",
       "│    │    └─ReLU: 3-11                   [4, 8, 46, 62, 62]        --\n",
       "│    │    └─Sequential: 3-12             [4, 8, 46, 62, 62]        592\n",
       "│    │    └─ReLU: 3-13                   [4, 8, 46, 62, 62]        --\n",
       "│    │    └─Sequential: 3-14             [4, 8, 46, 62, 62]        80\n",
       "│    │    └─ReLU: 3-15                   [4, 8, 46, 62, 62]        --\n",
       "│    └─BasicBlock: 2-8                   [4, 8, 46, 62, 62]        --\n",
       "│    │    └─Sequential: 3-16             [4, 8, 46, 62, 62]        592\n",
       "│    │    └─ReLU: 3-17                   [4, 8, 46, 62, 62]        --\n",
       "│    │    └─Sequential: 3-18             [4, 8, 46, 62, 62]        592\n",
       "│    │    └─ReLU: 3-19                   [4, 8, 46, 62, 62]        --\n",
       "│    └─BasicBlock: 2-9                   [4, 8, 46, 62, 62]        --\n",
       "│    │    └─Sequential: 3-20             [4, 8, 46, 62, 62]        592\n",
       "│    │    └─ReLU: 3-21                   [4, 8, 46, 62, 62]        --\n",
       "│    │    └─Sequential: 3-22             [4, 8, 46, 62, 62]        592\n",
       "│    │    └─ReLU: 3-23                   [4, 8, 46, 62, 62]        --\n",
       "│    └─BasicBlock: 2-10                  [4, 8, 46, 62, 62]        --\n",
       "│    │    └─Sequential: 3-24             [4, 8, 46, 62, 62]        592\n",
       "│    │    └─ReLU: 3-25                   [4, 8, 46, 62, 62]        --\n",
       "│    │    └─Sequential: 3-26             [4, 8, 46, 62, 62]        592\n",
       "│    │    └─ReLU: 3-27                   [4, 8, 46, 62, 62]        --\n",
       "│    └─MaxPool3d: 2-11                   [4, 8, 22, 30, 30]        --\n",
       "│    └─BottleNeck: 2-12                  [4, 16, 22, 30, 30]       --\n",
       "│    │    └─Sequential: 3-28             [4, 16, 22, 30, 30]       160\n",
       "│    │    └─Sequential: 3-29             [4, 8, 22, 30, 30]        80\n",
       "│    │    └─ReLU: 3-30                   [4, 8, 22, 30, 30]        --\n",
       "│    │    └─Sequential: 3-31             [4, 8, 22, 30, 30]        592\n",
       "│    │    └─ReLU: 3-32                   [4, 8, 22, 30, 30]        --\n",
       "│    │    └─Sequential: 3-33             [4, 16, 22, 30, 30]       160\n",
       "│    │    └─ReLU: 3-34                   [4, 16, 22, 30, 30]       --\n",
       "│    └─BasicBlock: 2-13                  [4, 16, 22, 30, 30]       --\n",
       "│    │    └─Sequential: 3-35             [4, 16, 22, 30, 30]       2,336\n",
       "│    │    └─ReLU: 3-36                   [4, 16, 22, 30, 30]       --\n",
       "│    │    └─Sequential: 3-37             [4, 16, 22, 30, 30]       2,336\n",
       "│    │    └─ReLU: 3-38                   [4, 16, 22, 30, 30]       --\n",
       "│    └─BasicBlock: 2-14                  [4, 16, 22, 30, 30]       --\n",
       "│    │    └─Sequential: 3-39             [4, 16, 22, 30, 30]       2,336\n",
       "│    │    └─ReLU: 3-40                   [4, 16, 22, 30, 30]       --\n",
       "│    │    └─Sequential: 3-41             [4, 16, 22, 30, 30]       2,336\n",
       "│    │    └─ReLU: 3-42                   [4, 16, 22, 30, 30]       --\n",
       "│    └─BasicBlock: 2-15                  [4, 16, 22, 30, 30]       --\n",
       "│    │    └─Sequential: 3-43             [4, 16, 22, 30, 30]       2,336\n",
       "│    │    └─ReLU: 3-44                   [4, 16, 22, 30, 30]       --\n",
       "│    │    └─Sequential: 3-45             [4, 16, 22, 30, 30]       2,336\n",
       "│    │    └─ReLU: 3-46                   [4, 16, 22, 30, 30]       --\n",
       "├─AdaptiveAvgPool3d: 1-3                 [4, 16, 1, 1, 1]          --\n",
       "├─Sequential: 1-4                        [4, 2]                    --\n",
       "│    └─Flatten: 2-16                     [4, 16]                   --\n",
       "│    └─Linear: 2-17                      [4, 32]                   544\n",
       "│    └─Dropout: 2-18                     [4, 32]                   --\n",
       "│    └─Linear: 2-19                      [4, 2]                    66\n",
       "│    └─Softmax: 2-20                     [4, 2]                    --\n",
       "==========================================================================================\n",
       "Total params: 23,314\n",
       "Trainable params: 23,314\n",
       "Non-trainable params: 0\n",
       "Total mult-adds (Units.GIGABYTES): 23.88\n",
       "==========================================================================================\n",
       "Input size (MB): 201.33\n",
       "Forward/backward pass size (MB): 8639.53\n",
       "Params size (MB): 0.09\n",
       "Estimated Total Size (MB): 8840.95\n",
       "=========================================================================================="
      ]
     },
     "execution_count": 6,
     "metadata": {},
     "output_type": "execute_result"
    }
   ],
   "source": [
    "device = 'cuda' if torch.cuda.is_available() else 'cpu'\n",
    "model = Residual().apply(init_weights).to(device)\n",
    "summary(model, input_size=(batch_size, 1, 192, 256, 256))"
   ]
  },
  {
   "cell_type": "code",
   "execution_count": 9,
   "metadata": {},
   "outputs": [],
   "source": [
    "loader_train = DataLoader(ds_train, batch_size=batch_size)\n",
    "loader_val = DataLoader(ds_val, batch_size=batch_size)\n",
    "loader_test = DataLoader(ds_test, batch_size=batch_size)"
   ]
  },
  {
   "cell_type": "code",
   "execution_count": 28,
   "metadata": {},
   "outputs": [],
   "source": [
    "loss_fn = nn.CrossEntropyLoss().to(device)\n",
    "opt = optim.Adam(model.parameters(), lr=learning_rate)\n",
    "es = EarlyStopping(patience=patience, delta=delta)"
   ]
  },
  {
   "cell_type": "code",
   "execution_count": 29,
   "metadata": {},
   "outputs": [
    {
     "data": {
      "application/vnd.jupyter.widget-view+json": {
       "model_id": "f072958f352649aaae80f8a25beea7d7",
       "version_major": 2,
       "version_minor": 0
      },
      "text/plain": [
       "  0%|          | 0/400 [00:00<?, ?it/s]"
      ]
     },
     "metadata": {},
     "output_type": "display_data"
    },
    {
     "name": "stdout",
     "output_type": "stream",
     "text": [
      "Epoch 0: val_loss=0.5775119662284851, early_stopping_count=0\n",
      "Epoch 1: val_loss=0.5402666330337524, early_stopping_count=0\n",
      "Epoch 2: val_loss=0.4507451057434082, early_stopping_count=0\n",
      "Epoch 3: val_loss=0.49698540568351746, early_stopping_count=1\n",
      "Epoch 4: val_loss=0.44499099254608154, early_stopping_count=0\n",
      "Epoch 5: val_loss=0.49840179085731506, early_stopping_count=1\n",
      "Epoch 6: val_loss=0.6692925691604614, early_stopping_count=2\n",
      "Epoch 7: val_loss=0.416386216878891, early_stopping_count=0\n",
      "Epoch 8: val_loss=0.4204461872577667, early_stopping_count=1\n",
      "Epoch 9: val_loss=0.4149344265460968, early_stopping_count=0\n",
      "Epoch 10: val_loss=0.40338993072509766, early_stopping_count=0\n",
      "Epoch 11: val_loss=0.6030913591384888, early_stopping_count=1\n",
      "Epoch 12: val_loss=0.48103559017181396, early_stopping_count=2\n",
      "Epoch 13: val_loss=0.4471224248409271, early_stopping_count=3\n",
      "Epoch 14: val_loss=0.4542314112186432, early_stopping_count=4\n",
      "Epoch 15: val_loss=0.42859435081481934, early_stopping_count=5\n"
     ]
    }
   ],
   "source": [
    "for epoch in tqdm(range(epochs)):\n",
    "    model.train()\n",
    "    for X, y in loader_train:\n",
    "        X = X.to(device)\n",
    "        y = y.to(device)\n",
    "\n",
    "        opt.zero_grad()\n",
    "        pred = model(X)\n",
    "        cost = loss_fn(pred, y)\n",
    "        cost.backward()\n",
    "        opt.step()\n",
    "\n",
    "    model.eval()\n",
    "    with torch.no_grad():\n",
    "        val_loss = sum(\n",
    "            loss_fn(model(X.to(device)), y.to(device)) for X, y in loader_val\n",
    "        )\n",
    "\n",
    "    es.evaluate(model, val_loss)\n",
    "\n",
    "    print(f\"Epoch {epoch}: val_loss={val_loss / len(loader_val)}, early_stopping_count={es.counter}\")\n",
    "\n",
    "    if es.should_stop():\n",
    "        model = es.load_best(model)\n",
    "        break"
   ]
  },
  {
   "cell_type": "code",
   "execution_count": 7,
   "metadata": {},
   "outputs": [
    {
     "data": {
      "text/plain": [
       "<All keys matched successfully>"
      ]
     },
     "execution_count": 7,
     "metadata": {},
     "output_type": "execute_result"
    }
   ],
   "source": [
    "model.load_state_dict(torch.load('residual_2_240403_01.pth'))"
   ]
  },
  {
   "cell_type": "code",
   "execution_count": 10,
   "metadata": {},
   "outputs": [],
   "source": [
    "y_true_raw = []\n",
    "y_pred_raw = []\n",
    "\n",
    "model.eval()\n",
    "with torch.no_grad():\n",
    "    for X, y in loader_test:\n",
    "        X = X.to(device)\n",
    "        y = y.to(device)\n",
    "\n",
    "        pred = model(X)\n",
    "\n",
    "        y_true_raw.append(y)\n",
    "        y_pred_raw.append(pred)\n",
    "\n",
    "y_true_raw = torch.concatenate(y_true_raw).cpu().numpy()\n",
    "y_pred_raw = torch.concatenate(y_pred_raw).cpu().numpy()"
   ]
  },
  {
   "cell_type": "code",
   "execution_count": 11,
   "metadata": {},
   "outputs": [
    {
     "data": {
      "text/plain": [
       "(array([1, 0, 1, 1, 0, 0, 0, 1, 0, 1, 0, 0, 0, 1, 1, 1, 0, 1, 0, 0, 1, 0,\n",
       "        0, 0, 0, 0, 0, 1, 1, 1, 0, 1, 0, 1, 0, 1, 0, 0, 1, 1, 0, 1, 0, 0,\n",
       "        0, 1, 0, 1, 1, 0, 0, 0, 0, 1, 0, 0, 1, 1, 1, 1, 0, 1, 0, 0, 0, 1,\n",
       "        1, 1, 0, 0, 1, 0, 0, 1, 1, 0, 0, 1, 1, 1, 0, 1, 0, 0, 0, 0, 1, 1]),\n",
       " array([1, 0, 1, 1, 0, 0, 0, 1, 1, 1, 0, 0, 0, 1, 1, 1, 0, 1, 0, 1, 1, 0,\n",
       "        1, 0, 1, 0, 0, 1, 1, 1, 0, 1, 1, 1, 0, 1, 1, 0, 1, 1, 0, 1, 0, 0,\n",
       "        0, 1, 0, 0, 1, 0, 1, 0, 0, 1, 0, 0, 1, 1, 1, 1, 0, 1, 0, 0, 0, 1,\n",
       "        1, 1, 0, 0, 1, 0, 0, 1, 1, 0, 0, 1, 1, 1, 0, 1, 0, 0, 0, 0, 1, 1]))"
      ]
     },
     "execution_count": 11,
     "metadata": {},
     "output_type": "execute_result"
    }
   ],
   "source": [
    "y_true = y_true_raw.argmax(axis=1)\n",
    "y_pred = y_pred_raw.argmax(axis=1)\n",
    "y_true, y_pred"
   ]
  },
  {
   "cell_type": "code",
   "execution_count": 12,
   "metadata": {},
   "outputs": [
    {
     "data": {
      "text/plain": [
       "array([[41,  7],\n",
       "       [ 1, 39]])"
      ]
     },
     "execution_count": 12,
     "metadata": {},
     "output_type": "execute_result"
    }
   ],
   "source": [
    "confusion_matrix(y_true, y_pred)"
   ]
  },
  {
   "cell_type": "code",
   "execution_count": 13,
   "metadata": {},
   "outputs": [
    {
     "data": {
      "text/plain": [
       "(array([47]),)"
      ]
     },
     "execution_count": 13,
     "metadata": {},
     "output_type": "execute_result"
    }
   ],
   "source": [
    "np.where((y_true == 1) & (y_pred == 0))"
   ]
  },
  {
   "cell_type": "code",
   "execution_count": 14,
   "metadata": {},
   "outputs": [
    {
     "data": {
      "text/plain": [
       "(array([ 8, 19, 22, 24, 32, 36, 50]),)"
      ]
     },
     "execution_count": 14,
     "metadata": {},
     "output_type": "execute_result"
    }
   ],
   "source": [
    "np.where((y_true == 0) & (y_pred == 1))"
   ]
  },
  {
   "cell_type": "code",
   "execution_count": null,
   "metadata": {},
   "outputs": [],
   "source": []
  }
 ],
 "metadata": {
  "kernelspec": {
   "display_name": "Python 3",
   "language": "python",
   "name": "python3"
  },
  "language_info": {
   "codemirror_mode": {
    "name": "ipython",
    "version": 3
   },
   "file_extension": ".py",
   "mimetype": "text/x-python",
   "name": "python",
   "nbconvert_exporter": "python",
   "pygments_lexer": "ipython3",
   "version": "3.12.2"
  }
 },
 "nbformat": 4,
 "nbformat_minor": 2
}
