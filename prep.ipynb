{
 "cells": [
  {
   "cell_type": "code",
   "execution_count": 1,
   "metadata": {},
   "outputs": [],
   "source": [
    "from pathlib import Path\n",
    "import re\n",
    "import pandas as pd"
   ]
  },
  {
   "cell_type": "code",
   "execution_count": 3,
   "metadata": {},
   "outputs": [],
   "source": [
    "dataset_folder = Path(\"ds004173\")\n",
    "\n",
    "df_arr = []\n",
    "\n",
    "for particiant_folder in dataset_folder.iterdir():\n",
    "    if not particiant_folder.is_dir():\n",
    "        continue\n",
    "\n",
    "    if not re.search(r\"^sub-\\d{6}\", particiant_folder.name):\n",
    "        continue\n",
    "\n",
    "    participant_id = particiant_folder.name\n",
    "\n",
    "    df = pd.read_csv(particiant_folder / f\"{participant_id}_scans.tsv\", sep=\"\\t\")\n",
    "    df[\"filename\"] = df[\"filename\"].apply(\n",
    "        lambda subpath: str(particiant_folder / subpath)\n",
    "    )\n",
    "\n",
    "    df_arr.append(df)\n",
    "\n",
    "df = pd.concat(df_arr, ignore_index=True)\n",
    "\n",
    "df.to_csv(\"images.csv\", index=False)"
   ]
  }
 ],
 "metadata": {
  "kernelspec": {
   "display_name": "Python 3",
   "language": "python",
   "name": "python3"
  },
  "language_info": {
   "codemirror_mode": {
    "name": "ipython",
    "version": 3
   },
   "file_extension": ".py",
   "mimetype": "text/x-python",
   "name": "python",
   "nbconvert_exporter": "python",
   "pygments_lexer": "ipython3",
   "version": "3.12.2"
  }
 },
 "nbformat": 4,
 "nbformat_minor": 2
}
