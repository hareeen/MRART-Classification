{
 "cells": [
  {
   "cell_type": "code",
   "execution_count": 1,
   "metadata": {},
   "outputs": [],
   "source": [
    "import pandas as pd\n",
    "import torch\n",
    "import torch.nn.functional as F\n",
    "from sklearn.metrics import confusion_matrix\n",
    "from sklearn.model_selection import train_test_split\n",
    "from torch import Tensor, nn, optim\n",
    "from torch.utils.data import DataLoader\n",
    "from torchinfo import summary\n",
    "from tqdm.auto import tqdm\n",
    "\n",
    "from utils import *"
   ]
  },
  {
   "cell_type": "code",
   "execution_count": 2,
   "metadata": {},
   "outputs": [
    {
     "ename": "KeyboardInterrupt",
     "evalue": "",
     "output_type": "error",
     "traceback": [
      "\u001b[0;31m---------------------------------------------------------------------------\u001b[0m",
      "\u001b[0;31mKeyboardInterrupt\u001b[0m                         Traceback (most recent call last)",
      "Cell \u001b[0;32mIn[2], line 11\u001b[0m\n\u001b[1;32m      4\u001b[0m df_train, df_test \u001b[38;5;241m=\u001b[39m train_test_split(\n\u001b[1;32m      5\u001b[0m     df, test_size\u001b[38;5;241m=\u001b[39m\u001b[38;5;241m2\u001b[39m \u001b[38;5;241m/\u001b[39m \u001b[38;5;241m10\u001b[39m, stratify\u001b[38;5;241m=\u001b[39mdf[\u001b[38;5;124m\"\u001b[39m\u001b[38;5;124mscore\u001b[39m\u001b[38;5;124m\"\u001b[39m], random_state\u001b[38;5;241m=\u001b[39mrandom_state\n\u001b[1;32m      6\u001b[0m )\n\u001b[1;32m      7\u001b[0m df_train, df_val \u001b[38;5;241m=\u001b[39m train_test_split(\n\u001b[1;32m      8\u001b[0m     df_train, test_size\u001b[38;5;241m=\u001b[39m\u001b[38;5;241m1\u001b[39m \u001b[38;5;241m/\u001b[39m \u001b[38;5;241m8\u001b[39m, stratify\u001b[38;5;241m=\u001b[39mdf_train[\u001b[38;5;124m\"\u001b[39m\u001b[38;5;124mscore\u001b[39m\u001b[38;5;124m\"\u001b[39m], random_state\u001b[38;5;241m=\u001b[39mrandom_state\n\u001b[1;32m      9\u001b[0m )\n\u001b[0;32m---> 11\u001b[0m ds_train \u001b[38;5;241m=\u001b[39m \u001b[43mMRIDataset\u001b[49m\u001b[43m(\u001b[49m\u001b[43mdf_train\u001b[49m\u001b[43m)\u001b[49m\n\u001b[1;32m     12\u001b[0m ds_val \u001b[38;5;241m=\u001b[39m MRIDataset(df_val)\n\u001b[1;32m     13\u001b[0m ds_test \u001b[38;5;241m=\u001b[39m MRIDataset(df_test)\n",
      "File \u001b[0;32m~/Projects/flowerpots/utils.py:27\u001b[0m, in \u001b[0;36mMRIDataset.__init__\u001b[0;34m(self, df)\u001b[0m\n\u001b[1;32m     24\u001b[0m \u001b[38;5;28mself\u001b[39m\u001b[38;5;241m.\u001b[39mlength \u001b[38;5;241m=\u001b[39m \u001b[38;5;28mlen\u001b[39m(scores)\n\u001b[1;32m     26\u001b[0m pool \u001b[38;5;241m=\u001b[39m Pool(\u001b[38;5;28mself\u001b[39m\u001b[38;5;241m.\u001b[39mworkers)\n\u001b[0;32m---> 27\u001b[0m \u001b[38;5;28mself\u001b[39m\u001b[38;5;241m.\u001b[39mx \u001b[38;5;241m=\u001b[39m \u001b[43mpool\u001b[49m\u001b[38;5;241;43m.\u001b[39;49m\u001b[43mmap\u001b[49m\u001b[43m(\u001b[49m\u001b[43mload_MRI_file\u001b[49m\u001b[43m,\u001b[49m\u001b[43m \u001b[49m\u001b[43mdf\u001b[49m\u001b[43m[\u001b[49m\u001b[38;5;124;43m\"\u001b[39;49m\u001b[38;5;124;43mfilename\u001b[39;49m\u001b[38;5;124;43m\"\u001b[39;49m\u001b[43m]\u001b[49m\u001b[38;5;241;43m.\u001b[39;49m\u001b[43mto_list\u001b[49m\u001b[43m(\u001b[49m\u001b[43m)\u001b[49m\u001b[43m)\u001b[49m\n\u001b[1;32m     28\u001b[0m pool\u001b[38;5;241m.\u001b[39mclose()\n\u001b[1;32m     29\u001b[0m pool\u001b[38;5;241m.\u001b[39mjoin()\n",
      "File \u001b[0;32m~/micromamba/lib/python3.12/multiprocessing/pool.py:367\u001b[0m, in \u001b[0;36mPool.map\u001b[0;34m(self, func, iterable, chunksize)\u001b[0m\n\u001b[1;32m    362\u001b[0m \u001b[38;5;28;01mdef\u001b[39;00m \u001b[38;5;21mmap\u001b[39m(\u001b[38;5;28mself\u001b[39m, func, iterable, chunksize\u001b[38;5;241m=\u001b[39m\u001b[38;5;28;01mNone\u001b[39;00m):\n\u001b[1;32m    363\u001b[0m \u001b[38;5;250m    \u001b[39m\u001b[38;5;124;03m'''\u001b[39;00m\n\u001b[1;32m    364\u001b[0m \u001b[38;5;124;03m    Apply `func` to each element in `iterable`, collecting the results\u001b[39;00m\n\u001b[1;32m    365\u001b[0m \u001b[38;5;124;03m    in a list that is returned.\u001b[39;00m\n\u001b[1;32m    366\u001b[0m \u001b[38;5;124;03m    '''\u001b[39;00m\n\u001b[0;32m--> 367\u001b[0m     \u001b[38;5;28;01mreturn\u001b[39;00m \u001b[38;5;28;43mself\u001b[39;49m\u001b[38;5;241;43m.\u001b[39;49m\u001b[43m_map_async\u001b[49m\u001b[43m(\u001b[49m\u001b[43mfunc\u001b[49m\u001b[43m,\u001b[49m\u001b[43m \u001b[49m\u001b[43miterable\u001b[49m\u001b[43m,\u001b[49m\u001b[43m \u001b[49m\u001b[43mmapstar\u001b[49m\u001b[43m,\u001b[49m\u001b[43m \u001b[49m\u001b[43mchunksize\u001b[49m\u001b[43m)\u001b[49m\u001b[38;5;241;43m.\u001b[39;49m\u001b[43mget\u001b[49m\u001b[43m(\u001b[49m\u001b[43m)\u001b[49m\n",
      "File \u001b[0;32m~/micromamba/lib/python3.12/multiprocessing/pool.py:768\u001b[0m, in \u001b[0;36mApplyResult.get\u001b[0;34m(self, timeout)\u001b[0m\n\u001b[1;32m    767\u001b[0m \u001b[38;5;28;01mdef\u001b[39;00m \u001b[38;5;21mget\u001b[39m(\u001b[38;5;28mself\u001b[39m, timeout\u001b[38;5;241m=\u001b[39m\u001b[38;5;28;01mNone\u001b[39;00m):\n\u001b[0;32m--> 768\u001b[0m     \u001b[38;5;28;43mself\u001b[39;49m\u001b[38;5;241;43m.\u001b[39;49m\u001b[43mwait\u001b[49m\u001b[43m(\u001b[49m\u001b[43mtimeout\u001b[49m\u001b[43m)\u001b[49m\n\u001b[1;32m    769\u001b[0m     \u001b[38;5;28;01mif\u001b[39;00m \u001b[38;5;129;01mnot\u001b[39;00m \u001b[38;5;28mself\u001b[39m\u001b[38;5;241m.\u001b[39mready():\n\u001b[1;32m    770\u001b[0m         \u001b[38;5;28;01mraise\u001b[39;00m \u001b[38;5;167;01mTimeoutError\u001b[39;00m\n",
      "File \u001b[0;32m~/micromamba/lib/python3.12/multiprocessing/pool.py:765\u001b[0m, in \u001b[0;36mApplyResult.wait\u001b[0;34m(self, timeout)\u001b[0m\n\u001b[1;32m    764\u001b[0m \u001b[38;5;28;01mdef\u001b[39;00m \u001b[38;5;21mwait\u001b[39m(\u001b[38;5;28mself\u001b[39m, timeout\u001b[38;5;241m=\u001b[39m\u001b[38;5;28;01mNone\u001b[39;00m):\n\u001b[0;32m--> 765\u001b[0m     \u001b[38;5;28;43mself\u001b[39;49m\u001b[38;5;241;43m.\u001b[39;49m\u001b[43m_event\u001b[49m\u001b[38;5;241;43m.\u001b[39;49m\u001b[43mwait\u001b[49m\u001b[43m(\u001b[49m\u001b[43mtimeout\u001b[49m\u001b[43m)\u001b[49m\n",
      "File \u001b[0;32m~/micromamba/lib/python3.12/threading.py:655\u001b[0m, in \u001b[0;36mEvent.wait\u001b[0;34m(self, timeout)\u001b[0m\n\u001b[1;32m    653\u001b[0m signaled \u001b[38;5;241m=\u001b[39m \u001b[38;5;28mself\u001b[39m\u001b[38;5;241m.\u001b[39m_flag\n\u001b[1;32m    654\u001b[0m \u001b[38;5;28;01mif\u001b[39;00m \u001b[38;5;129;01mnot\u001b[39;00m signaled:\n\u001b[0;32m--> 655\u001b[0m     signaled \u001b[38;5;241m=\u001b[39m \u001b[38;5;28;43mself\u001b[39;49m\u001b[38;5;241;43m.\u001b[39;49m\u001b[43m_cond\u001b[49m\u001b[38;5;241;43m.\u001b[39;49m\u001b[43mwait\u001b[49m\u001b[43m(\u001b[49m\u001b[43mtimeout\u001b[49m\u001b[43m)\u001b[49m\n\u001b[1;32m    656\u001b[0m \u001b[38;5;28;01mreturn\u001b[39;00m signaled\n",
      "File \u001b[0;32m~/micromamba/lib/python3.12/threading.py:355\u001b[0m, in \u001b[0;36mCondition.wait\u001b[0;34m(self, timeout)\u001b[0m\n\u001b[1;32m    353\u001b[0m \u001b[38;5;28;01mtry\u001b[39;00m:    \u001b[38;5;66;03m# restore state no matter what (e.g., KeyboardInterrupt)\u001b[39;00m\n\u001b[1;32m    354\u001b[0m     \u001b[38;5;28;01mif\u001b[39;00m timeout \u001b[38;5;129;01mis\u001b[39;00m \u001b[38;5;28;01mNone\u001b[39;00m:\n\u001b[0;32m--> 355\u001b[0m         \u001b[43mwaiter\u001b[49m\u001b[38;5;241;43m.\u001b[39;49m\u001b[43macquire\u001b[49m\u001b[43m(\u001b[49m\u001b[43m)\u001b[49m\n\u001b[1;32m    356\u001b[0m         gotit \u001b[38;5;241m=\u001b[39m \u001b[38;5;28;01mTrue\u001b[39;00m\n\u001b[1;32m    357\u001b[0m     \u001b[38;5;28;01melse\u001b[39;00m:\n",
      "\u001b[0;31mKeyboardInterrupt\u001b[0m: "
     ]
    }
   ],
   "source": [
    "random_state = 42\n",
    "\n",
    "df = pd.read_csv(\"images.csv\")\n",
    "df_train, df_test = train_test_split(\n",
    "    df, test_size=2 / 10, stratify=df[\"score\"], random_state=random_state\n",
    ")\n",
    "df_train, df_val = train_test_split(\n",
    "    df_train, test_size=1 / 8, stratify=df_train[\"score\"], random_state=random_state\n",
    ")\n",
    "\n",
    "ds_train = MRIDataset(df_train)\n",
    "ds_val = MRIDataset(df_val)\n",
    "ds_test = MRIDataset(df_test)"
   ]
  },
  {
   "cell_type": "code",
   "execution_count": 3,
   "metadata": {},
   "outputs": [],
   "source": [
    "class Baseline(nn.Module):\n",
    "    def __conv_subblock(self, in_channels: int, out_channels: int):\n",
    "        return nn.Sequential(\n",
    "            nn.Conv3d(\n",
    "                in_channels,\n",
    "                out_channels,\n",
    "                kernel_size=(5, 1, 1),\n",
    "                stride=1,\n",
    "                padding=\"same\",\n",
    "            ),\n",
    "            nn.Conv3d(\n",
    "                out_channels,\n",
    "                out_channels,\n",
    "                kernel_size=(1, 5, 1),\n",
    "                stride=1,\n",
    "                padding=\"same\",\n",
    "            ),\n",
    "            nn.Conv3d(\n",
    "                out_channels,\n",
    "                out_channels,\n",
    "                kernel_size=(1, 1, 5),\n",
    "                stride=1,\n",
    "                padding=\"same\",\n",
    "            ),\n",
    "            nn.BatchNorm3d(out_channels),\n",
    "            nn.ReLU(),\n",
    "        )\n",
    "\n",
    "    def __init__(self):\n",
    "        super().__init__()\n",
    "\n",
    "        self.conv_layers = nn.Sequential(\n",
    "            nn.Conv3d(1, 8, kernel_size=(5, 5, 5), stride=2),\n",
    "            nn.BatchNorm3d(8),\n",
    "            nn.ReLU(),\n",
    "            self.__conv_subblock(8, 8),\n",
    "            self.__conv_subblock(8, 16),\n",
    "            nn.MaxPool3d(kernel_size=(3, 3, 3), stride=2),\n",
    "            self.__conv_subblock(16, 8),\n",
    "            self.__conv_subblock(8, 16),\n",
    "            nn.MaxPool3d(kernel_size=(3, 3, 3), stride=2),\n",
    "            self.__conv_subblock(16, 8),\n",
    "            self.__conv_subblock(8, 16),\n",
    "            nn.MaxPool3d(kernel_size=(3, 3, 3), stride=2),\n",
    "            self.__conv_subblock(16, 8),\n",
    "            self.__conv_subblock(8, 16),\n",
    "            nn.AvgPool3d((10, 14, 14)),\n",
    "        )\n",
    "        self.readout_layers = nn.Sequential(\n",
    "            nn.Flatten(),\n",
    "            nn.Linear(16, 32, bias=True),\n",
    "            nn.Dropout(0.5),\n",
    "            nn.Linear(32, 2, bias=True),\n",
    "            nn.Softmax(dim=1),\n",
    "        )\n",
    "\n",
    "    def forward(self, x: Tensor):\n",
    "        out = self.conv_layers(x)\n",
    "        out = self.readout_layers(out)\n",
    "\n",
    "        return out"
   ]
  },
  {
   "cell_type": "code",
   "execution_count": 12,
   "metadata": {},
   "outputs": [],
   "source": [
    "learning_rate = 0.0005\n",
    "epochs = 400\n",
    "batch_size = 4\n",
    "patience = 5\n",
    "delta = 0.01"
   ]
  },
  {
   "cell_type": "code",
   "execution_count": 13,
   "metadata": {},
   "outputs": [
    {
     "data": {
      "text/plain": [
       "==========================================================================================\n",
       "Layer (type:depth-idx)                   Output Shape              Param #\n",
       "==========================================================================================\n",
       "Baseline                                 [4, 2]                    --\n",
       "├─Sequential: 1-1                        [4, 16, 1, 1, 1]          --\n",
       "│    └─Conv3d: 2-1                       [4, 8, 94, 126, 126]      1,008\n",
       "│    └─BatchNorm3d: 2-2                  [4, 8, 94, 126, 126]      16\n",
       "│    └─ReLU: 2-3                         [4, 8, 94, 126, 126]      --\n",
       "│    └─Sequential: 2-4                   [4, 8, 94, 126, 126]      --\n",
       "│    │    └─Conv3d: 3-1                  [4, 8, 94, 126, 126]      328\n",
       "│    │    └─Conv3d: 3-2                  [4, 8, 94, 126, 126]      328\n",
       "│    │    └─Conv3d: 3-3                  [4, 8, 94, 126, 126]      328\n",
       "│    │    └─BatchNorm3d: 3-4             [4, 8, 94, 126, 126]      16\n",
       "│    │    └─ReLU: 3-5                    [4, 8, 94, 126, 126]      --\n",
       "│    └─Sequential: 2-5                   [4, 16, 94, 126, 126]     --\n",
       "│    │    └─Conv3d: 3-6                  [4, 16, 94, 126, 126]     656\n",
       "│    │    └─Conv3d: 3-7                  [4, 16, 94, 126, 126]     1,296\n",
       "│    │    └─Conv3d: 3-8                  [4, 16, 94, 126, 126]     1,296\n",
       "│    │    └─BatchNorm3d: 3-9             [4, 16, 94, 126, 126]     32\n",
       "│    │    └─ReLU: 3-10                   [4, 16, 94, 126, 126]     --\n",
       "│    └─MaxPool3d: 2-6                    [4, 16, 46, 62, 62]       --\n",
       "│    └─Sequential: 2-7                   [4, 8, 46, 62, 62]        --\n",
       "│    │    └─Conv3d: 3-11                 [4, 8, 46, 62, 62]        648\n",
       "│    │    └─Conv3d: 3-12                 [4, 8, 46, 62, 62]        328\n",
       "│    │    └─Conv3d: 3-13                 [4, 8, 46, 62, 62]        328\n",
       "│    │    └─BatchNorm3d: 3-14            [4, 8, 46, 62, 62]        16\n",
       "│    │    └─ReLU: 3-15                   [4, 8, 46, 62, 62]        --\n",
       "│    └─Sequential: 2-8                   [4, 16, 46, 62, 62]       --\n",
       "│    │    └─Conv3d: 3-16                 [4, 16, 46, 62, 62]       656\n",
       "│    │    └─Conv3d: 3-17                 [4, 16, 46, 62, 62]       1,296\n",
       "│    │    └─Conv3d: 3-18                 [4, 16, 46, 62, 62]       1,296\n",
       "│    │    └─BatchNorm3d: 3-19            [4, 16, 46, 62, 62]       32\n",
       "│    │    └─ReLU: 3-20                   [4, 16, 46, 62, 62]       --\n",
       "│    └─MaxPool3d: 2-9                    [4, 16, 22, 30, 30]       --\n",
       "│    └─Sequential: 2-10                  [4, 8, 22, 30, 30]        --\n",
       "│    │    └─Conv3d: 3-21                 [4, 8, 22, 30, 30]        648\n",
       "│    │    └─Conv3d: 3-22                 [4, 8, 22, 30, 30]        328\n",
       "│    │    └─Conv3d: 3-23                 [4, 8, 22, 30, 30]        328\n",
       "│    │    └─BatchNorm3d: 3-24            [4, 8, 22, 30, 30]        16\n",
       "│    │    └─ReLU: 3-25                   [4, 8, 22, 30, 30]        --\n",
       "│    └─Sequential: 2-11                  [4, 16, 22, 30, 30]       --\n",
       "│    │    └─Conv3d: 3-26                 [4, 16, 22, 30, 30]       656\n",
       "│    │    └─Conv3d: 3-27                 [4, 16, 22, 30, 30]       1,296\n",
       "│    │    └─Conv3d: 3-28                 [4, 16, 22, 30, 30]       1,296\n",
       "│    │    └─BatchNorm3d: 3-29            [4, 16, 22, 30, 30]       32\n",
       "│    │    └─ReLU: 3-30                   [4, 16, 22, 30, 30]       --\n",
       "│    └─MaxPool3d: 2-12                   [4, 16, 10, 14, 14]       --\n",
       "│    └─Sequential: 2-13                  [4, 8, 10, 14, 14]        --\n",
       "│    │    └─Conv3d: 3-31                 [4, 8, 10, 14, 14]        648\n",
       "│    │    └─Conv3d: 3-32                 [4, 8, 10, 14, 14]        328\n",
       "│    │    └─Conv3d: 3-33                 [4, 8, 10, 14, 14]        328\n",
       "│    │    └─BatchNorm3d: 3-34            [4, 8, 10, 14, 14]        16\n",
       "│    │    └─ReLU: 3-35                   [4, 8, 10, 14, 14]        --\n",
       "│    └─Sequential: 2-14                  [4, 16, 10, 14, 14]       --\n",
       "│    │    └─Conv3d: 3-36                 [4, 16, 10, 14, 14]       656\n",
       "│    │    └─Conv3d: 3-37                 [4, 16, 10, 14, 14]       1,296\n",
       "│    │    └─Conv3d: 3-38                 [4, 16, 10, 14, 14]       1,296\n",
       "│    │    └─BatchNorm3d: 3-39            [4, 16, 10, 14, 14]       32\n",
       "│    │    └─ReLU: 3-40                   [4, 16, 10, 14, 14]       --\n",
       "│    └─AvgPool3d: 2-15                   [4, 16, 1, 1, 1]          --\n",
       "├─Sequential: 1-2                        [4, 2]                    --\n",
       "│    └─Flatten: 2-16                     [4, 16]                   --\n",
       "│    └─Linear: 2-17                      [4, 32]                   544\n",
       "│    └─Dropout: 2-18                     [4, 32]                   --\n",
       "│    └─Linear: 2-19                      [4, 2]                    66\n",
       "│    └─Softmax: 2-20                     [4, 2]                    --\n",
       "==========================================================================================\n",
       "Total params: 19,714\n",
       "Trainable params: 19,714\n",
       "Non-trainable params: 0\n",
       "Total mult-adds (Units.GIGABYTES): 34.90\n",
       "==========================================================================================\n",
       "Input size (MB): 201.33\n",
       "Forward/backward pass size (MB): 5958.61\n",
       "Params size (MB): 0.08\n",
       "Estimated Total Size (MB): 6160.02\n",
       "=========================================================================================="
      ]
     },
     "execution_count": 13,
     "metadata": {},
     "output_type": "execute_result"
    }
   ],
   "source": [
    "device = 'cuda' if torch.cuda.is_available() else 'cpu'\n",
    "model = Baseline().apply(init_weights).to(device)\n",
    "summary(model, input_size=(batch_size, 1, 192, 256, 256))"
   ]
  },
  {
   "cell_type": "code",
   "execution_count": 14,
   "metadata": {},
   "outputs": [],
   "source": [
    "loader_train = DataLoader(ds_train, batch_size=batch_size)\n",
    "loader_val = DataLoader(ds_val, batch_size=batch_size)\n",
    "loader_test = DataLoader(ds_test, batch_size=batch_size)"
   ]
  },
  {
   "cell_type": "code",
   "execution_count": 15,
   "metadata": {},
   "outputs": [],
   "source": [
    "loss_fn = nn.CrossEntropyLoss().to(device)\n",
    "opt = optim.Adam(model.parameters(), lr=learning_rate)\n",
    "es = EarlyStopping(patience=patience, delta=delta)"
   ]
  },
  {
   "cell_type": "code",
   "execution_count": 16,
   "metadata": {},
   "outputs": [
    {
     "data": {
      "application/vnd.jupyter.widget-view+json": {
       "model_id": "c894af8d9342449289f9121144c4753c",
       "version_major": 2,
       "version_minor": 0
      },
      "text/plain": [
       "  0%|          | 0/400 [00:00<?, ?it/s]"
      ]
     },
     "metadata": {},
     "output_type": "display_data"
    },
    {
     "name": "stdout",
     "output_type": "stream",
     "text": [
      "Epoch 0: val_loss=0.5932536721229553, early_stopping_count=0\n",
      "Epoch 1: val_loss=0.5151541233062744, early_stopping_count=0\n",
      "Epoch 2: val_loss=0.46176382899284363, early_stopping_count=0\n",
      "Epoch 3: val_loss=0.5268815755844116, early_stopping_count=1\n",
      "Epoch 4: val_loss=0.44984298944473267, early_stopping_count=0\n",
      "Epoch 5: val_loss=0.5222452282905579, early_stopping_count=1\n",
      "Epoch 6: val_loss=0.42839497327804565, early_stopping_count=0\n",
      "Epoch 7: val_loss=0.4613119959831238, early_stopping_count=1\n",
      "Epoch 8: val_loss=0.43004995584487915, early_stopping_count=2\n",
      "Epoch 9: val_loss=0.42143091559410095, early_stopping_count=0\n",
      "Epoch 10: val_loss=0.5452969670295715, early_stopping_count=1\n",
      "Epoch 11: val_loss=0.5484550595283508, early_stopping_count=2\n",
      "Epoch 12: val_loss=0.4542331099510193, early_stopping_count=3\n",
      "Epoch 13: val_loss=0.504102349281311, early_stopping_count=4\n",
      "Epoch 14: val_loss=0.43712279200553894, early_stopping_count=5\n"
     ]
    }
   ],
   "source": [
    "for epoch in tqdm(range(epochs)):\n",
    "    model.train()\n",
    "    for X, y in loader_train:\n",
    "        X = X.to(device)\n",
    "        y = y.to(device)\n",
    "\n",
    "        opt.zero_grad()\n",
    "        pred = model(X)\n",
    "        cost = loss_fn(pred, y)\n",
    "        cost.backward()\n",
    "        opt.step()\n",
    "\n",
    "    model.eval()\n",
    "    with torch.no_grad():\n",
    "        val_loss = sum(\n",
    "            loss_fn(model(X.to(device)), y.to(device)) for X, y in loader_val\n",
    "        )\n",
    "\n",
    "    es.evaluate(model, val_loss)\n",
    "\n",
    "    print(f\"Epoch {epoch}: val_loss={val_loss / len(loader_val)}, early_stopping_count={es.counter}\")\n",
    "\n",
    "    if es.should_stop():\n",
    "        model = es.load_best(model)\n",
    "        break"
   ]
  },
  {
   "cell_type": "code",
   "execution_count": 17,
   "metadata": {},
   "outputs": [],
   "source": [
    "y_true_raw = []\n",
    "y_pred_raw = []\n",
    "\n",
    "model.eval()\n",
    "with torch.no_grad():\n",
    "    for X, y in loader_test:\n",
    "        X = X.to(device)\n",
    "        y = y.to(device)\n",
    "\n",
    "        pred = model(X)\n",
    "\n",
    "        y_true_raw.append(y)\n",
    "        y_pred_raw.append(pred)\n",
    "\n",
    "y_true_raw = torch.concatenate(y_true_raw).cpu().numpy()\n",
    "y_pred_raw = torch.concatenate(y_pred_raw).cpu().numpy()"
   ]
  },
  {
   "cell_type": "code",
   "execution_count": 18,
   "metadata": {},
   "outputs": [
    {
     "data": {
      "text/plain": [
       "(array([1, 0, 1, 1, 0, 0, 0, 1, 0, 1, 0, 0, 0, 1, 1, 1, 0, 1, 0, 0, 1, 0,\n",
       "        0, 0, 0, 0, 0, 1, 1, 1, 0, 1, 0, 1, 0, 1, 0, 0, 1, 1, 0, 1, 0, 0,\n",
       "        0, 1, 0, 1, 1, 0, 0, 0, 0, 1, 0, 0, 1, 1, 1, 1, 0, 1, 0, 0, 0, 1,\n",
       "        1, 1, 0, 0, 1, 0, 0, 1, 1, 0, 0, 1, 1, 1, 0, 1, 0, 0, 0, 0, 1, 1]),\n",
       " array([1, 0, 1, 1, 0, 0, 0, 1, 0, 1, 0, 0, 0, 1, 1, 1, 0, 1, 0, 1, 1, 0,\n",
       "        1, 0, 1, 0, 0, 1, 1, 1, 0, 1, 1, 1, 1, 1, 1, 0, 1, 1, 0, 1, 0, 0,\n",
       "        0, 1, 0, 1, 1, 0, 1, 0, 0, 1, 0, 0, 1, 1, 1, 1, 0, 1, 0, 0, 1, 1,\n",
       "        1, 1, 0, 0, 1, 0, 0, 1, 1, 0, 0, 1, 1, 1, 0, 1, 0, 0, 0, 0, 1, 1]))"
      ]
     },
     "execution_count": 18,
     "metadata": {},
     "output_type": "execute_result"
    }
   ],
   "source": [
    "y_true = y_true_raw.argmax(axis=1)\n",
    "y_pred = y_pred_raw.argmax(axis=1)\n",
    "y_true, y_pred"
   ]
  },
  {
   "cell_type": "code",
   "execution_count": 19,
   "metadata": {},
   "outputs": [
    {
     "data": {
      "text/plain": [
       "array([[40,  8],\n",
       "       [ 0, 40]])"
      ]
     },
     "execution_count": 19,
     "metadata": {},
     "output_type": "execute_result"
    }
   ],
   "source": [
    "confusion_matrix(y_true, y_pred)"
   ]
  },
  {
   "cell_type": "code",
   "execution_count": null,
   "metadata": {},
   "outputs": [],
   "source": []
  }
 ],
 "metadata": {
  "kernelspec": {
   "display_name": "Python 3",
   "language": "python",
   "name": "python3"
  },
  "language_info": {
   "codemirror_mode": {
    "name": "ipython",
    "version": 3
   },
   "file_extension": ".py",
   "mimetype": "text/x-python",
   "name": "python",
   "nbconvert_exporter": "python",
   "pygments_lexer": "ipython3",
   "version": "3.10.14"
  }
 },
 "nbformat": 4,
 "nbformat_minor": 2
}
